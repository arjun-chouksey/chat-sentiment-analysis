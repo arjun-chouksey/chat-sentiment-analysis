{
 "cells": [
  {
   "cell_type": "code",
   "execution_count": null,
   "metadata": {},
   "outputs": [],
   "source": [
    "import torch    # type: ignore\n",
    "import pandas as pd  # type: ignore\n",
    "from transformers import BertTokenizer, BertForSequenceClassification       # type: ignore\n",
    "from torch.utils.data import DataLoader, Dataset                                  # type: ignore\n",
    "from tqdm import tqdm           # type: ignore"
   ]
  },
  {
   "cell_type": "code",
   "execution_count": null,
   "metadata": {},
   "outputs": [],
   "source": [
    "# Set the file path and chunk size for large dataset processing\n",
    "file_path = \"multiclass_dataset.csv\"  # Replace with your actual file path\n",
    "chunk_size = 10000  # Define an appropriate chunk size for memory management\n",
    "\n",
    "# Set device for GPU usage and enable mixed precision if available\n",
    "device = torch.device(\"cuda\" if torch.cuda.is_available() else \"cpu\")\n",
    "dtype = torch.float16 if torch.cuda.is_available() else torch.float32  # Use float16 if GPU is available"
   ]
  },
  {
   "cell_type": "code",
   "execution_count": null,
   "metadata": {},
   "outputs": [],
   "source": [
    "# Load BERT tokenizer and sentiment model\n",
    "tokenizer = BertTokenizer.from_pretrained('bert-base-uncased')\n",
    "model = BertForSequenceClassification.from_pretrained('nlptown/bert-base-multilingual-uncased-sentiment')\n",
    "model = torch.nn.DataParallel(model)  # Enable multi-GPU if available\n",
    "model.to(device).to(dtype)\n",
    "model.eval()"
   ]
  },
  {
   "cell_type": "code",
   "execution_count": null,
   "metadata": {},
   "outputs": [],
   "source": [
    "# Function to tokenize texts in a batch\n",
    "def batch_tokenize(texts):\n",
    "    return tokenizer(texts, return_tensors='pt', padding=True, truncation=True, max_length=512).to(device).to(dtype)\n",
    "\n",
    "# Function to predict sentiment for a batch of texts\n",
    "def batch_predict_sentiment(batch_texts):\n",
    "    inputs = batch_tokenize(batch_texts)\n",
    "    with torch.no_grad():\n",
    "        outputs = model(**inputs)\n",
    "    logits = outputs.logits\n",
    "    probabilities = torch.softmax(logits, dim=-1)\n",
    "    predicted_classes = torch.argmax(probabilities, dim=1).tolist()\n",
    "\n",
    "    return predicted_classes  # Return predicted classes directly"
   ]
  },
  {
   "cell_type": "code",
   "execution_count": null,
   "metadata": {},
   "outputs": [],
   "source": [
    "# Process the dataset in chunks and save results incrementally\n",
    "output_file = \"updating_\" + file_path  # Output file name\n",
    "for chunk_id, df_chunk in enumerate(pd.read_csv(file_path, chunksize=chunk_size)):\n",
    "    # Define a dataset and dataloader for the current chunk\n",
    "    class TextDataset(Dataset):\n",
    "        def __init__(self, texts):\n",
    "            self.texts = texts\n",
    "\n",
    "        def __len__(self):\n",
    "            return len(self.texts)\n",
    "\n",
    "        def __getitem__(self, idx):\n",
    "            return self.texts[idx]\n",
    "\n",
    "    dataset = TextDataset(df_chunk['Text'].tolist())\n",
    "    batch_size = 8  # Smaller batch size for large datasets and FP16 mode\n",
    "    dataloader = DataLoader(dataset, batch_size=batch_size, shuffle=False)\n",
    "\n",
    "    # Lists to collect labels and sentiment for this chunk\n",
    "    all_labels = []\n",
    "    all_sentiments = []\n",
    "\n",
    "    # Process each batch within the current chunk\n",
    "    for batch_texts in tqdm(dataloader, desc=f\"Processing chunk {chunk_id + 1}\", unit=\"batch\"):\n",
    "        predicted_classes = batch_predict_sentiment(batch_texts)\n",
    "\n",
    "        # Adjust labels based on the predictions\n",
    "        for index, pred_class in enumerate(predicted_classes):\n",
    "            original_label = df_chunk['Label'].iloc[index]  # Get the original label\n",
    "            if original_label == 1:  # If the original label is Neutral (1)\n",
    "                if pred_class == 0:  # If the model predicts it as Negative (0)\n",
    "                    all_labels.append(0)  # Change to Negative (0)\n",
    "                    all_sentiments.append(\"Negative\")\n",
    "                else:\n",
    "                    all_labels.append(1)  # Keep as Neutral (1)\n",
    "                    all_sentiments.append(\"Neutral\")\n",
    "            else:\n",
    "                all_labels.append(original_label)  # Keep other labels (0 or 2)\n",
    "                if original_label == 0:\n",
    "                    all_sentiments.append(\"Negative\")\n",
    "                elif original_label == 2:\n",
    "                    all_sentiments.append(\"Positive\")\n",
    "    # Append processed sentiment results to the current DataFrame chunk\n",
    "    df_chunk['Sentiment'] = all_sentiments\n",
    "    df_chunk['Label'] = all_labels\n",
    "\n",
    "    # Save each chunk to the output CSV incrementally\n",
    "    if chunk_id == 0:\n",
    "        df_chunk.to_csv(output_file, index=False, mode='w')  # Write header for the first chunk\n",
    "    else:\n",
    "        df_chunk.to_csv(output_file, index=False, mode='a', header=False)  # Append without header\n",
    "\n",
    "print(\"Processing complete. All chunks saved to\", output_file)"
   ]
  },
  {
   "cell_type": "code",
   "execution_count": null,
   "metadata": {},
   "outputs": [],
   "source": []
  }
 ],
 "metadata": {
  "kernelspec": {
   "display_name": "myenv",
   "language": "python",
   "name": "python3"
  },
  "language_info": {
   "codemirror_mode": {
    "name": "ipython",
    "version": 3
   },
   "file_extension": ".py",
   "mimetype": "text/x-python",
   "name": "python",
   "nbconvert_exporter": "python",
   "pygments_lexer": "ipython3",
   "version": "3.10.5"
  }
 },
 "nbformat": 4,
 "nbformat_minor": 2
}
