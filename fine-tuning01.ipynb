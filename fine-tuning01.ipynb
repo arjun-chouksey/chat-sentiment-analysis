{
 "cells": [
  {
   "cell_type": "markdown",
   "metadata": {},
   "source": [
    "# Multi-Column Sentiment-Analysis:"
   ]
  },
  {
   "cell_type": "code",
   "execution_count": 1,
   "metadata": {},
   "outputs": [
    {
     "name": "stderr",
     "output_type": "stream",
     "text": [
      "c:\\Users\\Rajendra\\Desktop\\BERT-model\\myenv\\lib\\site-packages\\tqdm\\auto.py:21: TqdmWarning: IProgress not found. Please update jupyter and ipywidgets. See https://ipywidgets.readthedocs.io/en/stable/user_install.html\n",
      "  from .autonotebook import tqdm as notebook_tqdm\n"
     ]
    }
   ],
   "source": [
    "from transformers import BertTokenizer, BertForSequenceClassification, AdamW\n",
    "from torch.utils.data import Dataset, DataLoader\n",
    "import torch\n",
    "import pandas as pd"
   ]
  },
  {
   "cell_type": "code",
   "execution_count": 2,
   "metadata": {},
   "outputs": [],
   "source": [
    "# Initialize the tokenizer\n",
    "tokenizer = BertTokenizer.from_pretrained('bert-base-uncased')\n",
    "\n",
    "# Load the dataset\n",
    "excel_file = 'expanded_data.xlsx'\n",
    "df = pd.read_excel(excel_file)"
   ]
  },
  {
   "cell_type": "code",
   "execution_count": 3,
   "metadata": {},
   "outputs": [],
   "source": [
    "# Fill NaN values in relevant columns with empty strings\n",
    "df['Observation Name'] = df['Observation Name'].fillna('')\n",
    "df['Description'] = df['Description'].fillna('')\n",
    "df['RPRemarks'] = df['RPRemarks'].fillna('')\n",
    "\n",
    "# Map sentiment labels\n",
    "label_mapping = {'Positive Zone': 2, 'Neutral Zone': 1, 'Negative Zone': 0}\n",
    "df['labels'] = df['Region'].map(label_mapping) "
   ]
  },
  {
   "cell_type": "code",
   "execution_count": 4,
   "metadata": {},
   "outputs": [
    {
     "data": {
      "text/html": [
       "<div>\n",
       "<style scoped>\n",
       "    .dataframe tbody tr th:only-of-type {\n",
       "        vertical-align: middle;\n",
       "    }\n",
       "\n",
       "    .dataframe tbody tr th {\n",
       "        vertical-align: top;\n",
       "    }\n",
       "\n",
       "    .dataframe thead th {\n",
       "        text-align: right;\n",
       "    }\n",
       "</style>\n",
       "<table border=\"1\" class=\"dataframe\">\n",
       "  <thead>\n",
       "    <tr style=\"text-align: right;\">\n",
       "      <th></th>\n",
       "      <th>ActDate</th>\n",
       "      <th>ActNo</th>\n",
       "      <th>ObservationID</th>\n",
       "      <th>Observation Name</th>\n",
       "      <th>CategoryID</th>\n",
       "      <th>Category</th>\n",
       "      <th>SubCategoryID</th>\n",
       "      <th>SubCatName</th>\n",
       "      <th>DepartID</th>\n",
       "      <th>DeptName</th>\n",
       "      <th>Description</th>\n",
       "      <th>Region</th>\n",
       "      <th>RPRemarks</th>\n",
       "      <th>UnitCode</th>\n",
       "      <th>Status</th>\n",
       "      <th>labels</th>\n",
       "    </tr>\n",
       "  </thead>\n",
       "  <tbody>\n",
       "    <tr>\n",
       "      <th>0</th>\n",
       "      <td>2024-01-01</td>\n",
       "      <td>1001</td>\n",
       "      <td>NaN</td>\n",
       "      <td>Example Observation</td>\n",
       "      <td>NaN</td>\n",
       "      <td>Category A</td>\n",
       "      <td>NaN</td>\n",
       "      <td>SubCategory X</td>\n",
       "      <td>NaN</td>\n",
       "      <td>Department 1</td>\n",
       "      <td>Cooking microwave pizzas, yummy</td>\n",
       "      <td>Positive Zone</td>\n",
       "      <td>Sample remark</td>\n",
       "      <td>Sample Unit</td>\n",
       "      <td>Active</td>\n",
       "      <td>2</td>\n",
       "    </tr>\n",
       "    <tr>\n",
       "      <th>1</th>\n",
       "      <td>2024-01-01</td>\n",
       "      <td>1001</td>\n",
       "      <td>NaN</td>\n",
       "      <td>Test Observation</td>\n",
       "      <td>NaN</td>\n",
       "      <td>Category A</td>\n",
       "      <td>NaN</td>\n",
       "      <td>SubCategory X</td>\n",
       "      <td>NaN</td>\n",
       "      <td>Department 1</td>\n",
       "      <td>Any plans of allowing sub tasks to show up in ...</td>\n",
       "      <td>Neutral Zone</td>\n",
       "      <td>Sample remark</td>\n",
       "      <td>Sample Unit</td>\n",
       "      <td>Active</td>\n",
       "      <td>1</td>\n",
       "    </tr>\n",
       "    <tr>\n",
       "      <th>2</th>\n",
       "      <td>2024-01-01</td>\n",
       "      <td>1001</td>\n",
       "      <td>NaN</td>\n",
       "      <td>Detailed Sample Observation</td>\n",
       "      <td>NaN</td>\n",
       "      <td>Category A</td>\n",
       "      <td>NaN</td>\n",
       "      <td>SubCategory X</td>\n",
       "      <td>NaN</td>\n",
       "      <td>Department 1</td>\n",
       "      <td>I love the humor, I just reworded it. Like sa...</td>\n",
       "      <td>Positive Zone</td>\n",
       "      <td>Sample remark</td>\n",
       "      <td>Sample Unit</td>\n",
       "      <td>Active</td>\n",
       "      <td>2</td>\n",
       "    </tr>\n",
       "    <tr>\n",
       "      <th>3</th>\n",
       "      <td>2024-01-01</td>\n",
       "      <td>1001</td>\n",
       "      <td>NaN</td>\n",
       "      <td>Example Observation</td>\n",
       "      <td>NaN</td>\n",
       "      <td>Category B</td>\n",
       "      <td>NaN</td>\n",
       "      <td>SubCategory Y</td>\n",
       "      <td>NaN</td>\n",
       "      <td>Department 2</td>\n",
       "      <td>naw idk what ur talkin about</td>\n",
       "      <td>Negative Zone</td>\n",
       "      <td>Sample remark</td>\n",
       "      <td>Sample Unit</td>\n",
       "      <td>Active</td>\n",
       "      <td>0</td>\n",
       "    </tr>\n",
       "    <tr>\n",
       "      <th>4</th>\n",
       "      <td>2024-01-01</td>\n",
       "      <td>1001</td>\n",
       "      <td>NaN</td>\n",
       "      <td>Test Observation</td>\n",
       "      <td>NaN</td>\n",
       "      <td>Category B</td>\n",
       "      <td>NaN</td>\n",
       "      <td>SubCategory Y</td>\n",
       "      <td>NaN</td>\n",
       "      <td>Department 2</td>\n",
       "      <td>That sucks to hear. I hate days like that</td>\n",
       "      <td>Negative Zone</td>\n",
       "      <td>Sample remark</td>\n",
       "      <td>Sample Unit</td>\n",
       "      <td>Active</td>\n",
       "      <td>0</td>\n",
       "    </tr>\n",
       "  </tbody>\n",
       "</table>\n",
       "</div>"
      ],
      "text/plain": [
       "      ActDate  ActNo  ObservationID             Observation Name  CategoryID  \\\n",
       "0  2024-01-01   1001            NaN          Example Observation         NaN   \n",
       "1  2024-01-01   1001            NaN             Test Observation         NaN   \n",
       "2  2024-01-01   1001            NaN  Detailed Sample Observation         NaN   \n",
       "3  2024-01-01   1001            NaN          Example Observation         NaN   \n",
       "4  2024-01-01   1001            NaN             Test Observation         NaN   \n",
       "\n",
       "     Category  SubCategoryID     SubCatName  DepartID      DeptName  \\\n",
       "0  Category A            NaN  SubCategory X       NaN  Department 1   \n",
       "1  Category A            NaN  SubCategory X       NaN  Department 1   \n",
       "2  Category A            NaN  SubCategory X       NaN  Department 1   \n",
       "3  Category B            NaN  SubCategory Y       NaN  Department 2   \n",
       "4  Category B            NaN  SubCategory Y       NaN  Department 2   \n",
       "\n",
       "                                         Description         Region  \\\n",
       "0                    Cooking microwave pizzas, yummy  Positive Zone   \n",
       "1  Any plans of allowing sub tasks to show up in ...   Neutral Zone   \n",
       "2   I love the humor, I just reworded it. Like sa...  Positive Zone   \n",
       "3                       naw idk what ur talkin about  Negative Zone   \n",
       "4          That sucks to hear. I hate days like that  Negative Zone   \n",
       "\n",
       "       RPRemarks     UnitCode  Status  labels  \n",
       "0  Sample remark  Sample Unit  Active       2  \n",
       "1  Sample remark  Sample Unit  Active       1  \n",
       "2  Sample remark  Sample Unit  Active       2  \n",
       "3  Sample remark  Sample Unit  Active       0  \n",
       "4  Sample remark  Sample Unit  Active       0  "
      ]
     },
     "execution_count": 4,
     "metadata": {},
     "output_type": "execute_result"
    }
   ],
   "source": [
    "df.head()"
   ]
  },
  {
   "cell_type": "code",
   "execution_count": 5,
   "metadata": {},
   "outputs": [],
   "source": [
    "# Tokenize each column separately\n",
    "tokens_obs = tokenizer(df['Observation Name'].tolist(), padding=True, truncation=True, return_tensors='pt')\n",
    "tokens_desc = tokenizer(df['Description'].tolist(), padding=True, truncation=True, return_tensors='pt')\n",
    "tokens_rpremarks = tokenizer(df['RPRemarks'].tolist(), padding=True, truncation=True, return_tensors='pt')"
   ]
  },
  {
   "cell_type": "code",
   "execution_count": 6,
   "metadata": {},
   "outputs": [],
   "source": [
    "# Custom Dataset class for handling multiple text columns\n",
    "class MultiColumnSentimentDataset(Dataset):\n",
    "    def __init__(self, encodings_obs, encodings_desc, encodings_rpremarks, labels):\n",
    "        self.encodings_obs = encodings_obs\n",
    "        self.encodings_desc = encodings_desc\n",
    "        self.encodings_rpremarks = encodings_rpremarks\n",
    "        self.labels = labels\n",
    "\n",
    "    def __len__(self):\n",
    "        return len(self.labels)\n",
    "\n",
    "    def __getitem__(self, idx):\n",
    "        item = {\n",
    "            'input_ids_obs': self.encodings_obs['input_ids'][idx],\n",
    "            'attention_mask_obs': self.encodings_obs['attention_mask'][idx],\n",
    "            'input_ids_desc': self.encodings_desc['input_ids'][idx],\n",
    "            'attention_mask_desc': self.encodings_desc['attention_mask'][idx],\n",
    "            'input_ids_rpremarks': self.encodings_rpremarks['input_ids'][idx],\n",
    "            'attention_mask_rpremarks': self.encodings_rpremarks['attention_mask'][idx],\n",
    "            'labels': torch.tensor(self.labels[idx])\n",
    "        }\n",
    "        return item"
   ]
  },
  {
   "cell_type": "code",
   "execution_count": 7,
   "metadata": {},
   "outputs": [
    {
     "name": "stderr",
     "output_type": "stream",
     "text": [
      "Some weights of BertForSequenceClassification were not initialized from the model checkpoint at bert-base-uncased and are newly initialized: ['classifier.bias', 'classifier.weight']\n",
      "You should probably TRAIN this model on a down-stream task to be able to use it for predictions and inference.\n",
      "c:\\Users\\Ansh Srivastava\\Desktop\\BERT-model\\myenv\\lib\\site-packages\\transformers\\optimization.py:591: FutureWarning: This implementation of AdamW is deprecated and will be removed in a future version. Use the PyTorch implementation torch.optim.AdamW instead, or set `no_deprecation_warning=True` to disable this warning\n",
      "  warnings.warn(\n"
     ]
    }
   ],
   "source": [
    "# Create dataset and dataloader\n",
    "dataset = MultiColumnSentimentDataset(tokens_obs, tokens_desc, tokens_rpremarks, df['labels'].tolist())\n",
    "train_loader = DataLoader(dataset, batch_size=2, shuffle=True)\n",
    "\n",
    "# Initialize model and optimizer\n",
    "model = BertForSequenceClassification.from_pretrained('bert-base-uncased', num_labels=3)\n",
    "optimizer = AdamW(model.parameters(), lr=2e-5)"
   ]
  },
  {
   "cell_type": "code",
   "execution_count": 8,
   "metadata": {},
   "outputs": [
    {
     "data": {
      "text/plain": [
       "BertForSequenceClassification(\n",
       "  (bert): BertModel(\n",
       "    (embeddings): BertEmbeddings(\n",
       "      (word_embeddings): Embedding(30522, 768, padding_idx=0)\n",
       "      (position_embeddings): Embedding(512, 768)\n",
       "      (token_type_embeddings): Embedding(2, 768)\n",
       "      (LayerNorm): LayerNorm((768,), eps=1e-12, elementwise_affine=True)\n",
       "      (dropout): Dropout(p=0.1, inplace=False)\n",
       "    )\n",
       "    (encoder): BertEncoder(\n",
       "      (layer): ModuleList(\n",
       "        (0-11): 12 x BertLayer(\n",
       "          (attention): BertAttention(\n",
       "            (self): BertSdpaSelfAttention(\n",
       "              (query): Linear(in_features=768, out_features=768, bias=True)\n",
       "              (key): Linear(in_features=768, out_features=768, bias=True)\n",
       "              (value): Linear(in_features=768, out_features=768, bias=True)\n",
       "              (dropout): Dropout(p=0.1, inplace=False)\n",
       "            )\n",
       "            (output): BertSelfOutput(\n",
       "              (dense): Linear(in_features=768, out_features=768, bias=True)\n",
       "              (LayerNorm): LayerNorm((768,), eps=1e-12, elementwise_affine=True)\n",
       "              (dropout): Dropout(p=0.1, inplace=False)\n",
       "            )\n",
       "          )\n",
       "          (intermediate): BertIntermediate(\n",
       "            (dense): Linear(in_features=768, out_features=3072, bias=True)\n",
       "            (intermediate_act_fn): GELUActivation()\n",
       "          )\n",
       "          (output): BertOutput(\n",
       "            (dense): Linear(in_features=3072, out_features=768, bias=True)\n",
       "            (LayerNorm): LayerNorm((768,), eps=1e-12, elementwise_affine=True)\n",
       "            (dropout): Dropout(p=0.1, inplace=False)\n",
       "          )\n",
       "        )\n",
       "      )\n",
       "    )\n",
       "    (pooler): BertPooler(\n",
       "      (dense): Linear(in_features=768, out_features=768, bias=True)\n",
       "      (activation): Tanh()\n",
       "    )\n",
       "  )\n",
       "  (dropout): Dropout(p=0.1, inplace=False)\n",
       "  (classifier): Linear(in_features=768, out_features=3, bias=True)\n",
       ")"
      ]
     },
     "execution_count": 8,
     "metadata": {},
     "output_type": "execute_result"
    }
   ],
   "source": [
    "# Set model to training mode and move to device (if available)\n",
    "device = torch.device(\"cuda\" if torch.cuda.is_available() else \"cpu\")\n",
    "model.to(device)\n",
    "model.train()"
   ]
  },
  {
   "cell_type": "code",
   "execution_count": 9,
   "metadata": {},
   "outputs": [],
   "source": [
    "# Custom forward pass for handling multiple columns\n",
    "for batch in train_loader:\n",
    "    # Move inputs to device\n",
    "    input_ids_obs = batch['input_ids_obs'].to(device)\n",
    "    attention_mask_obs = batch['attention_mask_obs'].to(device)\n",
    "    input_ids_desc = batch['input_ids_desc'].to(device)\n",
    "    attention_mask_desc = batch['attention_mask_desc'].to(device)\n",
    "    input_ids_rpremarks = batch['input_ids_rpremarks'].to(device)\n",
    "    attention_mask_rpremarks = batch['attention_mask_rpremarks'].to(device)\n",
    "    labels = batch['labels'].to(device)\n",
    "    \n",
    "    # Forward pass for each column\n",
    "    outputs_obs = model(input_ids=input_ids_obs, attention_mask=attention_mask_obs).logits\n",
    "    outputs_desc = model(input_ids=input_ids_desc, attention_mask=attention_mask_desc).logits\n",
    "    outputs_rpremarks = model(input_ids=input_ids_rpremarks, attention_mask=attention_mask_rpremarks).logits\n",
    "    \n",
    "    # Aggregate outputs (here we use mean, but other techniques like concatenation or weighted sum can also be tried)\n",
    "    outputs = (outputs_obs + outputs_desc + outputs_rpremarks) / 3\n",
    "    \n",
    "    # Calculate loss (cross entropy)\n",
    "    loss = torch.nn.CrossEntropyLoss()(outputs, labels)\n",
    "    \n",
    "    # Backward pass and optimization\n",
    "    optimizer.zero_grad()\n",
    "    loss.backward()\n",
    "    optimizer.step()"
   ]
  },
  {
   "cell_type": "code",
   "execution_count": 10,
   "metadata": {},
   "outputs": [
    {
     "name": "stdout",
     "output_type": "stream",
     "text": [
      "Epoch 1/3, Loss: 0.5504085719585419\n",
      "Epoch 2/3, Loss: 0.12391160527865092\n",
      "Epoch 3/3, Loss: 0.03712490126490593\n"
     ]
    }
   ],
   "source": [
    "# Example code snippet to monitor training loss\n",
    "num_epochs = 3\n",
    "for epoch in range(num_epochs):\n",
    "    total_loss = 0\n",
    "    for batch in train_loader:\n",
    "        \n",
    "        # Forward and backward pass\n",
    "        outputs_obs = model(input_ids=input_ids_obs, attention_mask=attention_mask_obs).logits\n",
    "        outputs_desc = model(input_ids=input_ids_desc, attention_mask=attention_mask_desc).logits\n",
    "        outputs_rpremarks = model(input_ids=input_ids_rpremarks, attention_mask=attention_mask_rpremarks).logits\n",
    "        outputs = (outputs_obs + outputs_desc + outputs_rpremarks) / 3\n",
    "        loss = torch.nn.CrossEntropyLoss()(outputs, labels)\n",
    "        optimizer.zero_grad()\n",
    "        loss.backward()\n",
    "        optimizer.step()\n",
    "\n",
    "        total_loss += loss.item()\n",
    "    print(f\"Epoch {epoch+1}/{num_epochs}, Loss: {total_loss/len(train_loader)}\")"
   ]
  },
  {
   "cell_type": "code",
   "execution_count": 11,
   "metadata": {},
   "outputs": [],
   "source": [
    "from sklearn.model_selection import train_test_split\n",
    "from torch.utils.data import DataLoader, Subset\n",
    "\n",
    "# Step 1: Split the dataset into training and validation sets\n",
    "train_df, val_df = train_test_split(df, test_size=0.2, random_state=42)\n",
    "\n",
    "# Step 2: Tokenize each column separately for both train and validation sets\n",
    "train_tokens_obs = tokenizer(train_df['Observation Name'].tolist(), padding=True, truncation=True, return_tensors='pt')\n",
    "train_tokens_desc = tokenizer(train_df['Description'].tolist(), padding=True, truncation=True, return_tensors='pt')\n",
    "train_tokens_rpremarks = tokenizer(train_df['RPRemarks'].tolist(), padding=True, truncation=True, return_tensors='pt')\n",
    "\n",
    "val_tokens_obs = tokenizer(val_df['Observation Name'].tolist(), padding=True, truncation=True, return_tensors='pt')\n",
    "val_tokens_desc = tokenizer(val_df['Description'].tolist(), padding=True, truncation=True, return_tensors='pt')\n",
    "val_tokens_rpremarks = tokenizer(val_df['RPRemarks'].tolist(), padding=True, truncation=True, return_tensors='pt')\n",
    "\n",
    "# Step 3: Define the training and validation datasets\n",
    "train_dataset = MultiColumnSentimentDataset(train_tokens_obs, train_tokens_desc, train_tokens_rpremarks, train_df['labels'].tolist())\n",
    "val_dataset = MultiColumnSentimentDataset(val_tokens_obs, val_tokens_desc, val_tokens_rpremarks, val_df['labels'].tolist())\n",
    "\n",
    "# Step 4: Create DataLoaders for both training and validation sets\n",
    "train_loader = DataLoader(train_dataset, batch_size=2, shuffle=True)\n",
    "val_loader = DataLoader(val_dataset, batch_size=2, shuffle=False)"
   ]
  },
  {
   "cell_type": "code",
   "execution_count": 12,
   "metadata": {},
   "outputs": [
    {
     "name": "stdout",
     "output_type": "stream",
     "text": [
      "Validation Accuracy: 0.8333333333333334\n",
      "Precision: 0.6944444444444445, Recall: 0.8333333333333334, F1 Score: 0.7575757575757575\n"
     ]
    },
    {
     "name": "stderr",
     "output_type": "stream",
     "text": [
      "c:\\Users\\Ansh Srivastava\\Desktop\\BERT-model\\myenv\\lib\\site-packages\\sklearn\\metrics\\_classification.py:1531: UndefinedMetricWarning: Precision is ill-defined and being set to 0.0 in labels with no predicted samples. Use `zero_division` parameter to control this behavior.\n",
      "  _warn_prf(average, modifier, f\"{metric.capitalize()} is\", len(result))\n"
     ]
    }
   ],
   "source": [
    "from sklearn.metrics import accuracy_score, precision_recall_fscore_support\n",
    "\n",
    "model.eval()  # Set model to evaluation mode\n",
    "predictions, true_labels = [], []\n",
    "\n",
    "with torch.no_grad():  # Disable gradient computation for inference\n",
    "    for batch in val_loader:\n",
    "        input_ids_obs = batch['input_ids_obs'].to(device)\n",
    "        attention_mask_obs = batch['attention_mask_obs'].to(device)\n",
    "        input_ids_desc = batch['input_ids_desc'].to(device)\n",
    "        attention_mask_desc = batch['attention_mask_desc'].to(device)\n",
    "        input_ids_rpremarks = batch['input_ids_rpremarks'].to(device)\n",
    "        attention_mask_rpremarks = batch['attention_mask_rpremarks'].to(device)\n",
    "        labels = batch['labels'].to(device)\n",
    "        \n",
    "        outputs_obs = model(input_ids=input_ids_obs, attention_mask=attention_mask_obs).logits\n",
    "        outputs_desc = model(input_ids=input_ids_desc, attention_mask=attention_mask_desc).logits\n",
    "        outputs_rpremarks = model(input_ids=input_ids_rpremarks, attention_mask=attention_mask_rpremarks).logits\n",
    "        outputs = (outputs_obs + outputs_desc + outputs_rpremarks) / 3\n",
    "        \n",
    "        preds = torch.argmax(outputs, dim=1).cpu().numpy()\n",
    "        predictions.extend(preds)\n",
    "        true_labels.extend(labels.cpu().numpy())\n",
    "\n",
    "# Calculate accuracy and other metrics\n",
    "accuracy = accuracy_score(true_labels, predictions)\n",
    "precision, recall, f1, _ = precision_recall_fscore_support(true_labels, predictions, average='weighted')\n",
    "print(f\"Validation Accuracy: {accuracy}\")\n",
    "print(f\"Precision: {precision}, Recall: {recall}, F1 Score: {f1}\")"
   ]
  },
  {
   "cell_type": "code",
   "execution_count": 13,
   "metadata": {},
   "outputs": [
    {
     "name": "stdout",
     "output_type": "stream",
     "text": [
      "Predicted Sentiment: Negative Zone\n"
     ]
    }
   ],
   "source": [
    "model.eval()  # Set model to evaluation mode\n",
    "sample_data = {\n",
    "    'Observation Name': \"Sample observation text\",\n",
    "    'Description': \"Sample description text\",\n",
    "    'RPRemarks': \"Sample remarks text\"\n",
    "}\n",
    "\n",
    "# Tokenize each column of sample data\n",
    "sample_tokens_obs = tokenizer([sample_data['Observation Name']], padding=True, truncation=True, return_tensors='pt')\n",
    "sample_tokens_desc = tokenizer([sample_data['Description']], padding=True, truncation=True, return_tensors='pt')\n",
    "sample_tokens_rpremarks = tokenizer([sample_data['RPRemarks']], padding=True, truncation=True, return_tensors='pt')\n",
    "\n",
    "with torch.no_grad():\n",
    "    outputs_obs = model(input_ids=sample_tokens_obs['input_ids'].to(device),\n",
    "                        attention_mask=sample_tokens_obs['attention_mask'].to(device)).logits\n",
    "    outputs_desc = model(input_ids=sample_tokens_desc['input_ids'].to(device),\n",
    "                         attention_mask=sample_tokens_desc['attention_mask'].to(device)).logits\n",
    "    outputs_rpremarks = model(input_ids=sample_tokens_rpremarks['input_ids'].to(device),\n",
    "                              attention_mask=sample_tokens_rpremarks['attention_mask'].to(device)).logits\n",
    "    outputs = (outputs_obs + outputs_desc + outputs_rpremarks) / 3\n",
    "    pred = torch.argmax(outputs, dim=1).item()\n",
    "\n",
    "sentiment_mapping = {0: \"Negative Zone\", 1: \"Neutral Zone\", 2: \"Positive Zone\"}\n",
    "print(f\"Predicted Sentiment: {sentiment_mapping[pred]}\")"
   ]
  }
 ],
 "metadata": {
  "kernelspec": {
   "display_name": "myenv",
   "language": "python",
   "name": "python3"
  },
  "language_info": {
   "codemirror_mode": {
    "name": "ipython",
    "version": 3
   },
   "file_extension": ".py",
   "mimetype": "text/x-python",
   "name": "python",
   "nbconvert_exporter": "python",
   "pygments_lexer": "ipython3",
   "version": "3.10.5"
  }
 },
 "nbformat": 4,
 "nbformat_minor": 2
}
